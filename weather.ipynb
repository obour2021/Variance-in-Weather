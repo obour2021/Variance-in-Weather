{
 "cells": [
  {
   "cell_type": "code",
   "execution_count": 1,
   "metadata": {},
   "outputs": [],
   "source": [
    "import pandas as pd\n",
    "import numpy as np\n"
   ]
  },
  {
   "cell_type": "code",
   "execution_count": null,
   "metadata": {},
   "outputs": [],
   "source": [
    "\n",
    "# print(london_data.iloc[100:200])\n",
    "print(len(london_data))\n",
    "temp = london_data[\"TemperatureC\"]\n",
    "average_temp = np.mean(temp)\n",
    "print(\"The average London Temperature is \" + str(average_temp))\n",
    "temperature_var = np.var(temp)\n",
    "print(\"The variance is \" + str(temperature_var))\n",
    "temperature_standard_deviation = np.std(temp)\n",
    "print(\"The standard deviation is \" + str(temperature_standard_deviation))\n",
    "# print(london_data.tail())\n",
    "june = london_data.loc[london_data[\"month\"] == 6][\"TemperatureC\"]\n",
    "july = london_data.loc[london_data[\"month\"] == 7][\"TemperatureC\"]\n",
    "june_average = np.mean(june)\n",
    "print(\"Average temperature for june is \" + str(june_average))\n",
    "july_average = np.mean(july)\n",
    "print(\"Average temperature for july is \" + str(july_average))\n",
    "june_standard_deviation = np.std(june)\n",
    "print(\"Standard deviation temperature for june is \" + str(june_average))\n",
    "july_standard_deviation = np.std(july)\n",
    "print(\"Standard deviation temperature for july is \" + str(july_average))\n",
    "for i in range(1, 13):\n",
    "  month = london_data.loc[london_data[\"month\"] == i][\"TemperatureC\"]\n",
    "  print(\"The mean temperature in month \"+str(i) +\" is \"+ str(np.mean(month)))\n",
    "  print(\"The standard deviation of temperature in month \"+str(i) +\" is \"+ str(np.std(month)) +\"\\n\""
   ]
  }
 ],
 "metadata": {
  "kernelspec": {
   "display_name": "Python 3",
   "language": "python",
   "name": "python3"
  },
  "language_info": {
   "codemirror_mode": {
    "name": "ipython",
    "version": 3
   },
   "file_extension": ".py",
   "mimetype": "text/x-python",
   "name": "python",
   "nbconvert_exporter": "python",
   "pygments_lexer": "ipython3",
   "version": "3.7.3"
  }
 },
 "nbformat": 4,
 "nbformat_minor": 2
}
